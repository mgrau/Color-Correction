{
 "cells": [
  {
   "cell_type": "code",
   "execution_count": 1,
   "metadata": {
    "ExecuteTime": {
     "end_time": "2020-09-13T11:58:17.287109Z",
     "start_time": "2020-09-13T11:58:16.646733Z"
    }
   },
   "outputs": [],
   "source": [
    "import re\n",
    "import numpy as np\n",
    "from skimage.feature import greycomatrix, greycoprops\n",
    "from skimage.color import rgb2gray\n",
    "from skimage.io import imread_collection"
   ]
  },
  {
   "cell_type": "code",
   "execution_count": 2,
   "metadata": {
    "ExecuteTime": {
     "end_time": "2020-09-13T11:58:17.484776Z",
     "start_time": "2020-09-13T11:58:17.289708Z"
    },
    "scrolled": false
   },
   "outputs": [
    {
     "data": {
      "text/plain": [
       "[{'name': '388_corrected.png',\n",
       "  'contrast': 0.13435000305306222,\n",
       "  'dissimilarity': 0.12212248885632293,\n",
       "  'homogeneity': 0.9399456119381691,\n",
       "  'ASM': 0.42517554395284735,\n",
       "  'energy': 0.6520548626862983,\n",
       "  'correlation': 0.7599753229699905},\n",
       " {'name': '389_corrected.png',\n",
       "  'contrast': 14.842490253846389,\n",
       "  'dissimilarity': 1.4793143469333103,\n",
       "  'homogeneity': 0.7067518076845268,\n",
       "  'ASM': 0.1803711407797253,\n",
       "  'energy': 0.42470123708287605,\n",
       "  'correlation': 0.33257330849702427},\n",
       " {'name': '390_corrected.png',\n",
       "  'contrast': 16.441813203268726,\n",
       "  'dissimilarity': 1.6943524579643179,\n",
       "  'homogeneity': 0.6747873639833031,\n",
       "  'ASM': 0.130803136071396,\n",
       "  'energy': 0.3616671620031268,\n",
       "  'correlation': 0.3526323508395117}]"
      ]
     },
     "execution_count": 2,
     "metadata": {},
     "output_type": "execute_result"
    }
   ],
   "source": [
    "GRAY_LEVELS = 32\n",
    "D = 5 # horizontal displacement\n",
    "Θ = 0 # angular displacement\n",
    "\n",
    "image_collection = imread_collection('texture swatches/*.png')\n",
    "data = []\n",
    "\n",
    "# loop through the different GLCM properties\n",
    "props = ['contrast', 'dissimilarity', 'homogeneity', 'ASM', 'energy', 'correlation']\n",
    "\n",
    "# loop through all the images\n",
    "for name, image in zip(image_collection.files, image_collection):\n",
    "    row={}\n",
    "    row['name'] = re.match('texture swatches.(.*_corrected.png)', name).group(1)\n",
    "    for prop in props:\n",
    "        # convert the image from rgb to grayscale\n",
    "        # but rgb2gray makes a float image from 0 to 1, so multiply by GRAY_LEVELS and floor\n",
    "        # make an image of integers from [0,32)\n",
    "        gray_image = np.floor(GRAY_LEVELS*rgb2gray(image)).astype(int)\n",
    "        # calculate the glcm for an image\n",
    "        glcm = greycomatrix(gray_image, [D], [Θ], 256, symmetric=True, normed=True)\n",
    "        row[prop] = greycoprops(glcm, prop)[0, 0]\n",
    "    data.append(row)\n",
    "\n",
    "# print the dataframe\n",
    "data"
   ]
  }
 ],
 "metadata": {
  "kernelspec": {
   "display_name": "Python 3",
   "language": "python",
   "name": "python3"
  },
  "language_info": {
   "codemirror_mode": {
    "name": "ipython",
    "version": 3
   },
   "file_extension": ".py",
   "mimetype": "text/x-python",
   "name": "python",
   "nbconvert_exporter": "python",
   "pygments_lexer": "ipython3",
   "version": "3.8.2"
  }
 },
 "nbformat": 4,
 "nbformat_minor": 4
}
